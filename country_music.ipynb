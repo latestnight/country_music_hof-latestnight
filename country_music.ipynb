{
 "cells": [
  {
   "cell_type": "code",
   "execution_count": 1,
   "metadata": {},
   "outputs": [],
   "source": [
    "import requests\n",
    "import pandas as pd\n",
    "import re\n",
    "from bs4 import BeautifulSoup as BS\n",
    "import seaborn as sns\n",
    "import matplotlib.pyplot as plt\n"
   ]
  },
  {
   "cell_type": "code",
   "execution_count": 2,
   "metadata": {},
   "outputs": [],
   "source": [
    "URL = 'https://countrymusichalloffame.org/hall-of-fame/members/page/'"
   ]
  },
  {
   "cell_type": "code",
   "execution_count": 3,
   "metadata": {},
   "outputs": [
    {
     "data": {
      "text/plain": [
       "['Roy Acuff',\n",
       " 'Alabama',\n",
       " 'Bill Anderson',\n",
       " 'Eddy Arnold',\n",
       " 'Chet Atkins',\n",
       " 'Gene Autry',\n",
       " 'DeFord Bailey',\n",
       " 'Bobby Bare',\n",
       " 'Johnny Bond',\n",
       " 'Bobby Braddock',\n",
       " 'Harold Bradley',\n",
       " 'Jerry Bradley',\n",
       " 'Owen Bradley',\n",
       " 'Rod Brasfield',\n",
       " 'Garth Brooks',\n",
       " 'Brooks & Dunn',\n",
       " 'Jim Ed Brown',\n",
       " 'Jim Ed Brown and the Browns',\n",
       " 'Boudleaux and Felice Bryant',\n",
       " 'Glen Campbell',\n",
       " 'Bill Carlisle',\n",
       " 'Carter Family',\n",
       " 'Johnny Cash',\n",
       " 'Roy Clark',\n",
       " 'Cowboy Jack Clement',\n",
       " 'Patsy Cline',\n",
       " 'Hank Cochran',\n",
       " 'Paul Cohen',\n",
       " 'Floyd Cramer',\n",
       " 'Vernon Dalhart',\n",
       " 'Charlie Daniels',\n",
       " 'Jimmie Davis',\n",
       " 'Jimmy Dean',\n",
       " 'Delmore Brothers',\n",
       " 'Jim Denny',\n",
       " 'Little Jimmy Dickens',\n",
       " 'Dean Dillon',\n",
       " 'Ralph Emery',\n",
       " 'The Everly Brothers',\n",
       " 'Flatt And Scruggs',\n",
       " 'Jim Foglesong',\n",
       " 'Red Foley',\n",
       " 'Tennessee Ernie Ford',\n",
       " 'Fred Foster',\n",
       " 'Joseph Frank',\n",
       " 'Lefty Frizzell',\n",
       " 'Connie B. Gay',\n",
       " 'Don Gibson',\n",
       " 'Vince Gill',\n",
       " 'Johnny Gimble',\n",
       " 'Merle Haggard',\n",
       " 'Tom T. Hall',\n",
       " 'Emmylou Harris',\n",
       " 'George D. Hay',\n",
       " 'Homer and Jethro',\n",
       " 'Roy Horton',\n",
       " 'Harlan Howard',\n",
       " 'Ferlin Husky',\n",
       " 'Alan Jackson',\n",
       " 'Sonny James',\n",
       " 'Waylon Jennings',\n",
       " 'George Jones',\n",
       " 'Grandpa Jones',\n",
       " 'Jordanaires',\n",
       " 'Pee Wee King',\n",
       " 'Kris Kristofferson',\n",
       " 'Don Law',\n",
       " 'Brenda Lee',\n",
       " 'Hubert Long',\n",
       " 'The Louvin Brothers',\n",
       " 'Loretta Lynn',\n",
       " 'Uncle David Macon',\n",
       " 'Barbara Mandrell',\n",
       " 'Grady Martin',\n",
       " 'Charlie McCoy',\n",
       " 'Reba McEntire',\n",
       " 'Roger Miller',\n",
       " 'Ronnie Milsap',\n",
       " 'Bill Monroe',\n",
       " 'Patsy Montana',\n",
       " 'George Morgan',\n",
       " 'Ken Nelson',\n",
       " 'Willie Nelson',\n",
       " 'Oak Ridge Boys',\n",
       " 'Buck Owens',\n",
       " 'Dolly Parton',\n",
       " 'Minnie Pearl',\n",
       " 'Ralph Peer',\n",
       " 'Sam Phillips',\n",
       " 'Webb Pierce',\n",
       " 'Elvis Presley',\n",
       " 'Frances Preston',\n",
       " 'Ray Price',\n",
       " 'Charley Pride',\n",
       " '\\u200bJerry Reed',\n",
       " 'Jim Reeves',\n",
       " 'Tex Ritter',\n",
       " 'Hargus “Pig” Robbins',\n",
       " 'Marty Robbins',\n",
       " 'Jimmie Rodgers',\n",
       " 'Kenny Rogers',\n",
       " 'Roy Rogers',\n",
       " 'Fred Rose',\n",
       " 'Wesley Rose',\n",
       " 'Arthur E. Satherley',\n",
       " 'Don Schlitz',\n",
       " 'Jean Shepard',\n",
       " 'Billy Sherrill',\n",
       " 'Stephen Sholes',\n",
       " 'Ricky Skaggs',\n",
       " 'Carl Smith',\n",
       " 'Connie Smith',\n",
       " 'Hank Snow',\n",
       " 'Sons of the Pioneers',\n",
       " 'Jack Stapp',\n",
       " 'Ray Stevens',\n",
       " 'Cliffie Stone',\n",
       " 'Ernest V. “Pop” Stoneman',\n",
       " 'George Strait',\n",
       " 'Marty Stuart',\n",
       " 'The Duke of Paducah',\n",
       " 'The Statler Brothers',\n",
       " 'Hank Thompson',\n",
       " 'Mel Tillis',\n",
       " 'Floyd Tillman',\n",
       " 'Merle Travis',\n",
       " 'Randy Travis',\n",
       " 'Ernest Tubb',\n",
       " 'Grant Turner',\n",
       " 'Conway Twitty',\n",
       " 'Porter Wagoner',\n",
       " 'Cindy Walker',\n",
       " 'Jo Walker-Meador',\n",
       " 'Kitty Wells',\n",
       " 'E. W. “Bud” Wendell',\n",
       " 'Dottie West',\n",
       " 'Don Williams',\n",
       " 'Hank Williams',\n",
       " 'Hank Williams Jr.',\n",
       " 'Bob Wills',\n",
       " 'Mac Wiseman',\n",
       " 'Tammy Wynette',\n",
       " 'Faron Young']"
      ]
     },
     "execution_count": 3,
     "metadata": {},
     "output_type": "execute_result"
    }
   ],
   "source": [
    "artist_names = []\n",
    "\n",
    "for page in range(1, 17):\n",
    "    new_URL = URL + str(page)\n",
    "    response = requests.get(new_URL)\n",
    "    soup = BS(response.text)\n",
    "    names = soup.findAll('h3')\n",
    "    for name in names:\n",
    "        artist_names.append(name.text)\n",
    "        \n",
    "artist_names\n",
    "    "
   ]
  },
  {
   "cell_type": "code",
   "execution_count": 4,
   "metadata": {},
   "outputs": [
    {
     "name": "stdout",
     "output_type": "stream",
     "text": [
      "1962\n",
      "2005\n",
      "2001\n",
      "1966\n",
      "1973\n",
      "1969\n",
      "2005\n",
      "2013\n",
      "1999\n",
      "2011\n",
      "2006\n",
      "2019\n",
      "1974\n",
      "1987\n",
      "2012\n",
      "2019\n",
      "2015\n",
      "2015\n",
      "1991\n",
      "2005\n",
      "2002\n",
      "1970\n",
      "1980\n",
      "2009\n",
      "2013\n",
      "1973\n",
      "2014\n",
      "1976\n",
      "2003\n",
      "1981\n",
      "2016\n",
      "1972\n",
      "2010\n",
      "2001\n",
      "1966\n",
      "1983\n",
      "2021\n",
      "2007\n",
      "2001\n",
      "1985\n",
      "2004\n",
      "1967\n",
      "1990\n",
      "2016\n",
      "1967\n",
      "1982\n",
      "1980\n",
      "2001\n",
      "2007\n",
      "2018\n",
      "1994\n",
      "2008\n",
      "2008\n",
      "1966\n",
      "2001\n",
      "1982\n",
      "1997\n",
      "2010\n",
      "2017\n",
      "2006\n",
      "2001\n",
      "1992\n",
      "1978\n",
      "2001\n",
      "1974\n",
      "2004\n",
      "2001\n",
      "1997\n",
      "1979\n",
      "2001\n",
      "1988\n",
      "1966\n",
      "2009\n",
      "2015\n",
      "2009\n",
      "2011\n",
      "1995\n",
      "2014\n",
      "1970\n",
      "1996\n",
      "1998\n",
      "2001\n",
      "1993\n",
      "2015\n",
      "1996\n",
      "1999\n",
      "1975\n",
      "1984\n",
      "2001\n",
      "2001\n",
      "1998\n",
      "1992\n",
      "1996\n",
      "2000\n",
      "2017\n",
      "1967\n",
      "1964\n",
      "2012\n",
      "1982\n",
      "1961\n",
      "2013\n",
      "1988\n",
      "1961\n",
      "1986\n",
      "1971\n",
      "2017\n",
      "2011\n",
      "2010\n",
      "1967\n",
      "2018\n",
      "2003\n",
      "2012\n",
      "1979\n",
      "1980\n",
      "1989\n",
      "2019\n",
      "1989\n",
      "2008\n",
      "2006\n",
      "2021\n",
      "1986\n",
      "2008\n",
      "1989\n",
      "2007\n",
      "1984\n",
      "1977\n",
      "2016\n",
      "1965\n",
      "1981\n",
      "1999\n",
      "2002\n",
      "1997\n",
      "1995\n",
      "1976\n",
      "1998\n",
      "2018\n",
      "2010\n",
      "1961\n",
      "2021\n",
      "1968\n",
      "2014\n",
      "1998\n",
      "2000\n"
     ]
    }
   ],
   "source": [
    "years_inducted = []\n",
    "\n",
    "for page in range(1, 17):\n",
    "    new_URL = URL + str(page)\n",
    "    response = requests.get(new_URL)\n",
    "    soup = BS(response.text)\n",
    "    for year in soup.find_all('div', attrs = {'class': 'vertical-card_content--copy'}):\n",
    "        year = str(year.text)\n",
    "        year = year.strip('\\n\\n                    Inducted ')\n",
    "        print(year)\n",
    "        years_inducted.append(year)\n",
    "\n",
    "\n",
    "\n",
    "\n",
    "#original text from for loop that wasn't working for some reason. transposition of year/s i think.\n",
    "    #years = soup.findAll('div', attrs = {'class': 'vertical-card_content--copy'})\n",
    "    #years = str(years.text)\n",
    "    #years = year.strip('\\n\\n                    Inducted ')\n",
    "    #print(years)\n",
    "    #for year in years:\n",
    "        #years_inducted.append(year.text)"
   ]
  },
  {
   "cell_type": "code",
   "execution_count": 5,
   "metadata": {},
   "outputs": [
    {
     "data": {
      "text/plain": [
       "143"
      ]
     },
     "execution_count": 5,
     "metadata": {},
     "output_type": "execute_result"
    }
   ],
   "source": [
    "len(years_inducted)"
   ]
  },
  {
   "cell_type": "code",
   "execution_count": 6,
   "metadata": {},
   "outputs": [
    {
     "data": {
      "text/plain": [
       "143"
      ]
     },
     "execution_count": 6,
     "metadata": {},
     "output_type": "execute_result"
    }
   ],
   "source": [
    "len(artist_names)"
   ]
  },
  {
   "cell_type": "code",
   "execution_count": 7,
   "metadata": {},
   "outputs": [],
   "source": [
    "#for loop that pulls years from single page\n",
    "#years = []\n",
    "\n",
    "#for year in soup.find_all('div', attrs = {'class': 'vertical-card_content--copy'}):\n",
    "    #year = str(year.text)\n",
    "    #year = year.strip('\\n\\n                    Inducted ')\n",
    "    #print(year)\n",
    "    #years.append(year)"
   ]
  },
  {
   "cell_type": "code",
   "execution_count": 8,
   "metadata": {},
   "outputs": [
    {
     "data": {
      "text/plain": [
       "list"
      ]
     },
     "execution_count": 8,
     "metadata": {},
     "output_type": "execute_result"
    }
   ],
   "source": [
    "type(artist_names)"
   ]
  },
  {
   "cell_type": "code",
   "execution_count": 9,
   "metadata": {},
   "outputs": [
    {
     "data": {
      "text/plain": [
       "list"
      ]
     },
     "execution_count": 9,
     "metadata": {},
     "output_type": "execute_result"
    }
   ],
   "source": [
    "type(years_inducted)"
   ]
  },
  {
   "cell_type": "code",
   "execution_count": 10,
   "metadata": {},
   "outputs": [],
   "source": [
    "hall_of_fame = pd.DataFrame()\n",
    "hall_of_fame['Musicians'] = artist_names\n",
    "hall_of_fame['Year Inducted'] = years_inducted"
   ]
  },
  {
   "cell_type": "code",
   "execution_count": 11,
   "metadata": {},
   "outputs": [
    {
     "data": {
      "text/html": [
       "<div>\n",
       "<style scoped>\n",
       "    .dataframe tbody tr th:only-of-type {\n",
       "        vertical-align: middle;\n",
       "    }\n",
       "\n",
       "    .dataframe tbody tr th {\n",
       "        vertical-align: top;\n",
       "    }\n",
       "\n",
       "    .dataframe thead th {\n",
       "        text-align: right;\n",
       "    }\n",
       "</style>\n",
       "<table border=\"1\" class=\"dataframe\">\n",
       "  <thead>\n",
       "    <tr style=\"text-align: right;\">\n",
       "      <th></th>\n",
       "      <th>Musicians</th>\n",
       "      <th>Year Inducted</th>\n",
       "    </tr>\n",
       "  </thead>\n",
       "  <tbody>\n",
       "    <tr>\n",
       "      <th>0</th>\n",
       "      <td>Roy Acuff</td>\n",
       "      <td>1962</td>\n",
       "    </tr>\n",
       "    <tr>\n",
       "      <th>1</th>\n",
       "      <td>Alabama</td>\n",
       "      <td>2005</td>\n",
       "    </tr>\n",
       "    <tr>\n",
       "      <th>2</th>\n",
       "      <td>Bill Anderson</td>\n",
       "      <td>2001</td>\n",
       "    </tr>\n",
       "    <tr>\n",
       "      <th>3</th>\n",
       "      <td>Eddy Arnold</td>\n",
       "      <td>1966</td>\n",
       "    </tr>\n",
       "    <tr>\n",
       "      <th>4</th>\n",
       "      <td>Chet Atkins</td>\n",
       "      <td>1973</td>\n",
       "    </tr>\n",
       "    <tr>\n",
       "      <th>...</th>\n",
       "      <td>...</td>\n",
       "      <td>...</td>\n",
       "    </tr>\n",
       "    <tr>\n",
       "      <th>138</th>\n",
       "      <td>Hank Williams Jr.</td>\n",
       "      <td>2021</td>\n",
       "    </tr>\n",
       "    <tr>\n",
       "      <th>139</th>\n",
       "      <td>Bob Wills</td>\n",
       "      <td>1968</td>\n",
       "    </tr>\n",
       "    <tr>\n",
       "      <th>140</th>\n",
       "      <td>Mac Wiseman</td>\n",
       "      <td>2014</td>\n",
       "    </tr>\n",
       "    <tr>\n",
       "      <th>141</th>\n",
       "      <td>Tammy Wynette</td>\n",
       "      <td>1998</td>\n",
       "    </tr>\n",
       "    <tr>\n",
       "      <th>142</th>\n",
       "      <td>Faron Young</td>\n",
       "      <td>2000</td>\n",
       "    </tr>\n",
       "  </tbody>\n",
       "</table>\n",
       "<p>143 rows × 2 columns</p>\n",
       "</div>"
      ],
      "text/plain": [
       "             Musicians Year Inducted\n",
       "0            Roy Acuff          1962\n",
       "1              Alabama          2005\n",
       "2        Bill Anderson          2001\n",
       "3          Eddy Arnold          1966\n",
       "4          Chet Atkins          1973\n",
       "..                 ...           ...\n",
       "138  Hank Williams Jr.          2021\n",
       "139          Bob Wills          1968\n",
       "140        Mac Wiseman          2014\n",
       "141      Tammy Wynette          1998\n",
       "142        Faron Young          2000\n",
       "\n",
       "[143 rows x 2 columns]"
      ]
     },
     "execution_count": 11,
     "metadata": {},
     "output_type": "execute_result"
    }
   ],
   "source": [
    "hall_of_fame"
   ]
  },
  {
   "cell_type": "code",
   "execution_count": 12,
   "metadata": {},
   "outputs": [
    {
     "data": {
      "text/html": [
       "<div>\n",
       "<style scoped>\n",
       "    .dataframe tbody tr th:only-of-type {\n",
       "        vertical-align: middle;\n",
       "    }\n",
       "\n",
       "    .dataframe tbody tr th {\n",
       "        vertical-align: top;\n",
       "    }\n",
       "\n",
       "    .dataframe thead th {\n",
       "        text-align: right;\n",
       "    }\n",
       "</style>\n",
       "<table border=\"1\" class=\"dataframe\">\n",
       "  <thead>\n",
       "    <tr style=\"text-align: right;\">\n",
       "      <th></th>\n",
       "      <th>Musicians</th>\n",
       "      <th>Year Inducted</th>\n",
       "    </tr>\n",
       "  </thead>\n",
       "  <tbody>\n",
       "    <tr>\n",
       "      <th>count</th>\n",
       "      <td>143</td>\n",
       "      <td>143</td>\n",
       "    </tr>\n",
       "    <tr>\n",
       "      <th>unique</th>\n",
       "      <td>143</td>\n",
       "      <td>59</td>\n",
       "    </tr>\n",
       "    <tr>\n",
       "      <th>top</th>\n",
       "      <td>Roy Acuff</td>\n",
       "      <td>2001</td>\n",
       "    </tr>\n",
       "    <tr>\n",
       "      <th>freq</th>\n",
       "      <td>1</td>\n",
       "      <td>12</td>\n",
       "    </tr>\n",
       "  </tbody>\n",
       "</table>\n",
       "</div>"
      ],
      "text/plain": [
       "        Musicians Year Inducted\n",
       "count         143           143\n",
       "unique        143            59\n",
       "top     Roy Acuff          2001\n",
       "freq            1            12"
      ]
     },
     "execution_count": 12,
     "metadata": {},
     "output_type": "execute_result"
    }
   ],
   "source": [
    "hall_of_fame.describe()"
   ]
  },
  {
   "cell_type": "code",
   "execution_count": 20,
   "metadata": {},
   "outputs": [
    {
     "name": "stdout",
     "output_type": "stream",
     "text": [
      "<class 'pandas.core.frame.DataFrame'>\n",
      "RangeIndex: 143 entries, 0 to 142\n",
      "Data columns (total 2 columns):\n",
      " #   Column         Non-Null Count  Dtype \n",
      "---  ------         --------------  ----- \n",
      " 0   Musicians      143 non-null    object\n",
      " 1   Year Inducted  143 non-null    object\n",
      "dtypes: object(2)\n",
      "memory usage: 2.4+ KB\n"
     ]
    }
   ],
   "source": [
    "hall_of_fame.info()"
   ]
  },
  {
   "cell_type": "code",
   "execution_count": 15,
   "metadata": {},
   "outputs": [
    {
     "data": {
      "image/png": "[encoded data removed]",
      "text/plain": [
       "<Figure size 432x288 with 1 Axes>"
      ]
     },
     "metadata": {
      "needs_background": "light"
     },
     "output_type": "display_data"
    }
   ],
   "source": [
    "hall_of_fame['Year Inducted'].value_counts().plot(kind = 'bar');"
   ]
  },
  {
   "cell_type": "code",
   "execution_count": 27,
   "metadata": {},
   "outputs": [
    {
     "data": {
      "image/png": "[encoded data removed]",
      "text/plain": [
       "<Figure size 720x432 with 1 Axes>"
      ]
     },
     "metadata": {
      "needs_background": "light"
     },
     "output_type": "display_data"
    }
   ],
   "source": [
    "hall_of_fame['Year Inducted'].hist(bins = 25,\n",
    "                                    color = 'orange',\n",
    "                                    figsize= (10,6));"
   ]
  },
  {
   "cell_type": "code",
   "execution_count": 28,
   "metadata": {},
   "outputs": [
    {
     "data": {
      "image/png": "[encoded data removed]",
      "text/plain": [
       "<Figure size 720x432 with 1 Axes>"
      ]
     },
     "metadata": {
      "needs_background": "light"
     },
     "output_type": "display_data"
    }
   ],
   "source": [
    "hall_of_fame.plot(kind = 'scatter',\n",
    "                    x = 'Year Inducted',\n",
    "                    y = 'Musicians',\n",
    "                    figsize = (10,6));"
   ]
  },
  {
   "cell_type": "code",
   "execution_count": null,
   "metadata": {},
   "outputs": [],
   "source": []
  }
 ],
 "metadata": {
  "interpreter": {
   "hash": "40d3a090f54c6569ab1632332b64b2c03c39dcf918b08424e98f38b5ae0af88f"
  },
  "kernelspec": {
   "display_name": "Python 3.9.7 ('base')",
   "language": "python",
   "name": "python3"
  },
  "language_info": {
   "codemirror_mode": {
    "name": "ipython",
    "version": 3
   },
   "file_extension": ".py",
   "mimetype": "text/x-python",
   "name": "python",
   "nbconvert_exporter": "python",
   "pygments_lexer": "ipython3",
   "version": "3.9.7"
  },
  "orig_nbformat": 4
 },
 "nbformat": 4,
 "nbformat_minor": 2
}
